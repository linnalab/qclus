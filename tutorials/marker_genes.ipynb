{
 "cells": [
  {
   "cell_type": "code",
   "execution_count": 5,
   "id": "initial_id",
   "metadata": {
    "ExecuteTime": {
     "end_time": "2024-06-26T11:12:02.373304Z",
     "start_time": "2024-06-26T11:12:02.362431Z"
    },
    "collapsed": true
   },
   "outputs": [
    {
     "name": "stdout",
     "output_type": "stream",
     "text": [
      "sampo1\n",
      "/research/work/johanneo/qclus/qclus/tutorials\n"
     ]
    }
   ],
   "source": [
    "import socket\n",
    "import os\n",
    "\n",
    "print(socket.gethostname())\n",
    "print(os.getcwd())"
   ]
  },
  {
   "cell_type": "code",
   "execution_count": 17,
   "id": "2c7f3dd537036097",
   "metadata": {
    "ExecuteTime": {
     "end_time": "2024-06-26T11:38:34.343554Z",
     "start_time": "2024-06-26T11:38:34.336771Z"
    }
   },
   "outputs": [],
   "source": [
    "import qclus as qc\n",
    "import scanpy as sc\n",
    "import pandas as pd\n",
    "from qclus.gene_lists import *\n",
    "\n",
    "import warnings\n",
    "warnings.filterwarnings(\"ignore\")"
   ]
  },
  {
   "cell_type": "code",
   "execution_count": 12,
   "id": "a2a2e786e09c2c24",
   "metadata": {
    "ExecuteTime": {
     "end_time": "2024-06-26T11:33:38.212891Z",
     "start_time": "2024-06-26T11:33:38.206273Z"
    }
   },
   "outputs": [],
   "source": [
    "loompy_path = \"../../../../../groups/Linna_Lab/QCLUS_revisions/kidney1/cellranger/SRR11858626/SRR11858626/velocyto/velocyto.loom\""
   ]
  },
  {
   "cell_type": "code",
   "execution_count": 13,
   "id": "60427053a480ad8a",
   "metadata": {
    "ExecuteTime": {
     "end_time": "2024-06-26T11:33:43.851567Z",
     "start_time": "2024-06-26T11:33:38.418120Z"
    }
   },
   "outputs": [],
   "source": [
    "fraction_unspliced = qc.utils.fraction_unspliced_from_loom(loompy_path)"
   ]
  },
  {
   "cell_type": "code",
   "execution_count": 14,
   "id": "c5ea960a055c2d5a",
   "metadata": {
    "ExecuteTime": {
     "end_time": "2024-06-26T11:33:43.917142Z",
     "start_time": "2024-06-26T11:33:43.853295Z"
    }
   },
   "outputs": [
    {
     "data": {
      "text/html": [
       "<div>\n",
       "<style scoped>\n",
       "    .dataframe tbody tr th:only-of-type {\n",
       "        vertical-align: middle;\n",
       "    }\n",
       "\n",
       "    .dataframe tbody tr th {\n",
       "        vertical-align: top;\n",
       "    }\n",
       "\n",
       "    .dataframe thead th {\n",
       "        text-align: right;\n",
       "    }\n",
       "</style>\n",
       "<table border=\"1\" class=\"dataframe\">\n",
       "  <thead>\n",
       "    <tr style=\"text-align: right;\">\n",
       "      <th></th>\n",
       "      <th>fraction_unspliced</th>\n",
       "    </tr>\n",
       "  </thead>\n",
       "  <tbody>\n",
       "    <tr>\n",
       "      <th>AACCGCGGTAAGTAGT</th>\n",
       "      <td>0.775862</td>\n",
       "    </tr>\n",
       "    <tr>\n",
       "      <th>AAACCTGTCGCCTGAG</th>\n",
       "      <td>0.771654</td>\n",
       "    </tr>\n",
       "    <tr>\n",
       "      <th>AAAGTAGTCCTTTACA</th>\n",
       "      <td>0.760563</td>\n",
       "    </tr>\n",
       "    <tr>\n",
       "      <th>AAAGCAATCTCAAACG</th>\n",
       "      <td>0.873684</td>\n",
       "    </tr>\n",
       "    <tr>\n",
       "      <th>AAAGCAAAGGCATTGG</th>\n",
       "      <td>0.850467</td>\n",
       "    </tr>\n",
       "    <tr>\n",
       "      <th>...</th>\n",
       "      <td>...</td>\n",
       "    </tr>\n",
       "    <tr>\n",
       "      <th>TTTATGCTCAGTTGAC</th>\n",
       "      <td>0.831858</td>\n",
       "    </tr>\n",
       "    <tr>\n",
       "      <th>TTTACTGTCGTCCGTT</th>\n",
       "      <td>0.833333</td>\n",
       "    </tr>\n",
       "    <tr>\n",
       "      <th>TTTGGTTCAAGTCTGT</th>\n",
       "      <td>0.894737</td>\n",
       "    </tr>\n",
       "    <tr>\n",
       "      <th>TTTGCGCGTAAAGGAG</th>\n",
       "      <td>0.800000</td>\n",
       "    </tr>\n",
       "    <tr>\n",
       "      <th>TTTATGCAGAGCTATA</th>\n",
       "      <td>0.829932</td>\n",
       "    </tr>\n",
       "  </tbody>\n",
       "</table>\n",
       "<p>5672 rows × 1 columns</p>\n",
       "</div>"
      ],
      "text/plain": [
       "                  fraction_unspliced\n",
       "AACCGCGGTAAGTAGT            0.775862\n",
       "AAACCTGTCGCCTGAG            0.771654\n",
       "AAAGTAGTCCTTTACA            0.760563\n",
       "AAAGCAATCTCAAACG            0.873684\n",
       "AAAGCAAAGGCATTGG            0.850467\n",
       "...                              ...\n",
       "TTTATGCTCAGTTGAC            0.831858\n",
       "TTTACTGTCGTCCGTT            0.833333\n",
       "TTTGGTTCAAGTCTGT            0.894737\n",
       "TTTGCGCGTAAAGGAG            0.800000\n",
       "TTTATGCAGAGCTATA            0.829932\n",
       "\n",
       "[5672 rows x 1 columns]"
      ]
     },
     "execution_count": 14,
     "metadata": {},
     "output_type": "execute_result"
    }
   ],
   "source": [
    "fraction_unspliced"
   ]
  },
  {
   "cell_type": "code",
   "execution_count": 16,
   "id": "9cb6ecafacdbcff4",
   "metadata": {
    "ExecuteTime": {
     "end_time": "2024-06-26T11:37:38.407677Z",
     "start_time": "2024-06-26T11:37:38.397766Z"
    }
   },
   "outputs": [],
   "source": [
    "counts_path = \"../../../../../groups/Linna_Lab/QCLUS_revisions/kidney1/cellranger/SRR11858626/SRR11858626/outs/filtered_feature_bc_matrix.h5\""
   ]
  },
  {
   "cell_type": "code",
   "execution_count": null,
   "id": "70629f143c1b0023",
   "metadata": {},
   "outputs": [],
   "source": [
    "\n",
    "adata = qc.run_qclus(counts_path, fraction_unspliced,\n",
    "                        gene_set_dict=celltype_gene_set_dict,           # exact gene sets can be found in gene_lists.py\n",
    "                        nucl_gene_set=nucl_genes_50,                    # exact gene set can be found in gene_lists.py\n",
    "                        minimum_genes=500,                              # minimum number of detected genes allowed in droplet\n",
    "                        maximum_genes=6000,                             # maximum number of detected genes allowed in droplet\n",
    "                        max_mito_perc=40,                               # maximum percentage of mitochondrial content allowed in droplet\n",
    "                        clustering_features=['pct_counts_nonCM',        # Clustering features as defined in publication\n",
    "                                        'pct_counts_nucl_30',           \n",
    "                                        'pct_counts_MT',            \n",
    "                                        'pct_counts_CM_cyto', \n",
    "                                        'pct_counts_CM_nucl', \n",
    "                                        'fraction_unspliced'], \n",
    "                        clustering_k=4,                                 # number of clusters to generate\n",
    "                        clusters_to_select=[\"0\", \"1\"],                  # which clusters, in order of quality, to select\n",
    "                        scrublet_filter=True,                           # whether or not to apply the Scrublet algorith,\n",
    "                        scrublet_expected_rate=0.06,                    \n",
    "                        scrublet_minimum_counts=2,                      \n",
    "                        scrublet_minimum_cells=3,                       \n",
    "                        scrublet_minimum_gene_variability_pctl=85,      \n",
    "                        scrublet_n_pcs=30,                              \n",
    "                        scrublet_thresh=0.1,                            \n",
    "                        outlier_filter=True,                            # whether or not to apply outlier filter\n",
    "                        outlier_unspliced_diff=0.1,                     # outlier filter setting\n",
    "                        outlier_mito_diff=5)                            # outlier filter setting\n"
   ]
  }
 ],
 "metadata": {
  "kernelspec": {
   "display_name": "Python 3",
   "language": "python",
   "name": "python3"
  },
  "language_info": {
   "codemirror_mode": {
    "name": "ipython",
    "version": 2
   },
   "file_extension": ".py",
   "mimetype": "text/x-python",
   "name": "python",
   "nbconvert_exporter": "python",
   "pygments_lexer": "ipython2",
   "version": "2.7.6"
  }
 },
 "nbformat": 4,
 "nbformat_minor": 5
}
