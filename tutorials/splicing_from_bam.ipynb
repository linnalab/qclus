{
 "cells": [
  {
   "metadata": {},
   "cell_type": "markdown",
   "source": "# Unspliced fraction from 10X bam files",
   "id": "6bc3eea1f68624ae"
  },
  {
   "metadata": {},
   "cell_type": "markdown",
   "source": [
    "This notebook shows how  to calculate the unspliced fraction from 10X bam files using our built-in function.\n",
    "\n",
    "First, we load the necessary libraries and define the path to the outs directory."
   ],
   "id": "d0bcb38c8bbbdea0"
  },
  {
   "metadata": {},
   "cell_type": "code",
   "outputs": [],
   "execution_count": null,
   "source": [
    "import qclus as qc\n",
    "\n",
    "outs_path = \"path/to/outs\""
   ],
   "id": "ce363930b578f000"
  },
  {
   "metadata": {},
   "cell_type": "markdown",
   "source": "Now we can calculate the unspliced fraction using the `nuclear_fraction_tags` function. This function calculates the fraction of unspliced molecules in each nucleus by counting the number of spliced and unspliced molecules in each nucleus. The function takes the following arguments:",
   "id": "8e8f585faa786798"
  },
  {
   "cell_type": "code",
   "execution_count": null,
   "id": "bf3cebc7",
   "metadata": {},
   "outputs": [],
   "source": [
    "fraction_unspliced = qc.utils.nuclear_fraction_tags(outs=outs_path, \n",
    "                           verbose=True, \n",
    "                           tiles=80, \n",
    "                           cores=8)"
   ]
  },
  {
   "metadata": {},
   "cell_type": "markdown",
   "source": "If you have a different directory structure, you can specify the path to the different files directly:",
   "id": "a39209974d95555e"
  },
  {
   "cell_type": "code",
   "execution_count": null,
   "id": "5d204ec8",
   "metadata": {},
   "outputs": [],
   "source": [
    "fraction_unspliced = qc.utils.nuclear_fraction_tags(outs=None, \n",
    "                            bam=\"path/to/bam\", \n",
    "                            bam_index=\"path/to/bam_index\",\n",
    "                            barcodes=\"path/to/barcodes\",\n",
    "                            tiles=80, \n",
    "                            cores=8, \n",
    "                            cell_barcode_tag=\"CB\", \n",
    "                            region_type_tag=\"RE\", \n",
    "                            exon_tag=\"E\", \n",
    "                            intron_tag=\"N\", \n",
    "                            verbose=True)"
   ]
  },
  {
   "metadata": {},
   "cell_type": "markdown",
   "source": "Now we can save the unspliced fraction to a csv file.",
   "id": "bddca650d570de62"
  },
  {
   "cell_type": "code",
   "execution_count": null,
   "id": "0eb21cde",
   "metadata": {},
   "outputs": [],
   "source": "fraction_unspliced.to_csv(\"fraction_unspliced.csv\")"
  }
 ],
 "metadata": {
  "kernelspec": {
   "display_name": "Python 3 (ipykernel)",
   "language": "python",
   "name": "python3"
  },
  "language_info": {
   "codemirror_mode": {
    "name": "ipython",
    "version": 3
   },
   "file_extension": ".py",
   "mimetype": "text/x-python",
   "name": "python",
   "nbconvert_exporter": "python",
   "pygments_lexer": "ipython3",
   "version": "3.1.-1"
  }
 },
 "nbformat": 4,
 "nbformat_minor": 5
}
